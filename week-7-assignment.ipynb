{
 "cells": [
  {
   "cell_type": "markdown",
   "metadata": {},
   "source": [
    "### 複習題"
   ]
  },
  {
   "cell_type": "markdown",
   "metadata": {},
   "source": [
    "#### If-else 練習\n"
   ]
  },
  {
   "cell_type": "markdown",
   "metadata": {},
   "source": [
    "撰寫一個程式，讀入使用者的身高、體重，<br>\n",
    "並判斷使用者為過輕、正常、或異常。<br>\n",
    "若異常則再判斷為過重、輕度、中度、或重度\n",
    "BMI = 體重 除以 身高的平方 <br>\n",
    "體重的單位為公斤，身高的單位為公尺<br>\n",
    "<br>\n",
    "![image](https://i.imgur.com/OBF8hEt.png)"
   ]
  },
  {
   "cell_type": "code",
   "execution_count": null,
   "metadata": {},
   "outputs": [],
   "source": []
  },
  {
   "cell_type": "markdown",
   "metadata": {},
   "source": [
    "三數比大小 <br>\n",
    "撰寫一個程式，讀入三個整數 <br>\n",
    "兩兩比對，判斷三個整數大小，並依照其大小輸出 <br>\n",
    "舉例： <br>\n",
    "輸入3、6、4，輸出6 4 3 <br>\n",
    "輸入6、6、5，輸出6 6 5 <br>"
   ]
  },
  {
   "cell_type": "code",
   "execution_count": null,
   "metadata": {},
   "outputs": [],
   "source": []
  },
  {
   "cell_type": "markdown",
   "metadata": {},
   "source": [
    "#### 迴圈練習 (for, while)"
   ]
  },
  {
   "cell_type": "markdown",
   "metadata": {},
   "source": [
    "撰寫一個程式，不斷詢問使用者是否繼續遊玩 <br>\n",
    "若使用者輸入Y則繼續詢問，輸入N則印出結束並結束 <br>\n",
    "若輸入其他東西則顯示輸入錯誤並再詢問一次 <br>"
   ]
  },
  {
   "cell_type": "code",
   "execution_count": null,
   "metadata": {},
   "outputs": [],
   "source": []
  },
  {
   "cell_type": "markdown",
   "metadata": {},
   "source": [
    "費波納契數列 ([Wikipedia](https://zh.wikipedia.org/zh-tw/%E6%96%90%E6%B3%A2%E9%82%A3%E5%A5%91%E6%95%B0))<br>\n",
    "給定輸入整數n，輸出前n項費波納契數列 <br>\n",
    "舉例：n = 8，輸出為 1 1 2 3 5 8 13 21 <br>\n",
    "問：第 25 項是多少？"
   ]
  },
  {
   "cell_type": "code",
   "execution_count": null,
   "metadata": {},
   "outputs": [],
   "source": []
  },
  {
   "cell_type": "markdown",
   "metadata": {},
   "source": [
    "有一個數列，第一項為 $a_1 = 1$，<br>\n",
    "之後的每項都是前一項去除以當前項數的1/2。 <br>\n",
    "例如：$a_2 = a_1 / (2*0.5) = 1$, $a_3 = a_2 / (3*0.5) = 2/3  = 0.666...$ <br>\n",
    "問：第幾項開始小於 0.0001 ？"
   ]
  },
  {
   "cell_type": "code",
   "execution_count": 5,
   "metadata": {},
   "outputs": [
    {
     "name": "stdout",
     "output_type": "stream",
     "text": [
      "2 1.0 False\n",
      "3 0.6666666666666666 False\n",
      "4 0.3333333333333333 False\n",
      "5 0.13333333333333333 False\n",
      "6 0.044444444444444446 False\n",
      "7 0.012698412698412698 False\n",
      "8 0.0031746031746031746 False\n",
      "9 0.0007054673721340388 False\n",
      "10 0.00014109347442680778 False\n",
      "11 2.565335898669232e-05 True\n",
      "12 4.275559831115387e-06 True\n",
      "13 6.577784355562134e-07 True\n",
      "14 9.396834793660192e-08 True\n",
      "15 1.2529113058213589e-08 True\n",
      "16 1.5661391322766986e-09 True\n",
      "17 1.8425166262078806e-10 True\n",
      "18 2.047240695786534e-11 True\n",
      "19 2.1549902060910886e-12 True\n"
     ]
    }
   ],
   "source": [
    "a = 1\n",
    "for i in range(2, 20):\n",
    "    b = a / (i / 2)\n",
    "    a = b\n",
    "    print(i, b, b < 0.0001)"
   ]
  },
  {
   "cell_type": "markdown",
   "metadata": {},
   "source": [
    "印出 <br>\n",
    "Pattern A <br>\n",
    "1           \n",
    "1 2         \n",
    "1 2 3       \n",
    "1 2 3 4     \n",
    "1 2 3 4 5   \n",
    "1 2 3 4 5 6 \n",
    "\n",
    "Pattern B <br>\n",
    "1 2 3 4 5 6 <br>\n",
    "1 2 3 4 5   <br>\n",
    "1 2 3 4     <br>\n",
    "1 2 3       <br>\n",
    "1 2         <br>\n",
    "1           <br>\n",
    "\n",
    "Pattern C <br>\n",
    "          1 <br>\n",
    "        2 1 <br>\n",
    "      3 2 1 <br>\n",
    "    4 3 2 1 <br>\n",
    "  5 4 3 2 1 <br>\n",
    "6 5 4 3 2 1 <br>\n",
    "\n",
    "Pattern D  <br>\n",
    "1 2 3 4 5 6 <br>\n",
    "  1 2 3 4 5 <br>\n",
    "    1 2 3 4 <br>\n",
    "      1 2 3 <br>\n",
    "        1 2 <br>\n",
    "          1<br>"
   ]
  },
  {
   "cell_type": "code",
   "execution_count": null,
   "metadata": {},
   "outputs": [],
   "source": []
  },
  {
   "cell_type": "markdown",
   "metadata": {},
   "source": [
    "一球從100公尺高度自由落下，每次落地後反跳回原高度的一半；再落下，求它在第10次落地時，共經過多少公尺？"
   ]
  },
  {
   "cell_type": "code",
   "execution_count": null,
   "metadata": {},
   "outputs": [],
   "source": []
  },
  {
   "cell_type": "markdown",
   "metadata": {},
   "source": [
    "寫一個程式，把使用者的輸入跟四位數的答案比比看。如果位置和數字都對，輸出A。如果數字對，但是位置不對，輸出B。最後呈現結果為幾 A 幾 B。\n",
    "\n",
    "例如：輸入 1234，答案是 1243。結果就會是 2A2B。"
   ]
  },
  {
   "cell_type": "code",
   "execution_count": null,
   "metadata": {},
   "outputs": [],
   "source": []
  },
  {
   "cell_type": "markdown",
   "metadata": {},
   "source": [
    "### List 練習"
   ]
  },
  {
   "cell_type": "markdown",
   "metadata": {},
   "source": [
    "將 \"I love python\" 裡的三個字取出來。"
   ]
  },
  {
   "cell_type": "markdown",
   "metadata": {},
   "source": [
    "輸入小明國、英、數、社、自的成績，並把他的平均分數和最高的科目和分數印出來。 <br>\n",
    "Ex = [0, 0, 0, 100, 0] <br>\n",
    "輸出： 小明平均分數 20 分，分數最高的科目是 數學"
   ]
  },
  {
   "cell_type": "code",
   "execution_count": null,
   "metadata": {},
   "outputs": [],
   "source": []
  },
  {
   "cell_type": "markdown",
   "metadata": {},
   "source": [
    "使用者輸入一些大於0的數字，把他們存進list之後，把最小的數字找出來 <br>\n",
    "Ex: \"1 10 20 32.4\" <br>\n",
    "list 就是 [1, 10, 20, 32.4], 最小的就是 1"
   ]
  },
  {
   "cell_type": "code",
   "execution_count": null,
   "metadata": {},
   "outputs": [],
   "source": [
    "numbers = input(\"一些數字(中間用空格隔開):\")"
   ]
  },
  {
   "cell_type": "markdown",
   "metadata": {},
   "source": [
    "一個5位數，判斷它是不是回文數。\n",
    "\n",
    "回文數，個位與萬位相同，十位與千位相同。"
   ]
  },
  {
   "cell_type": "code",
   "execution_count": null,
   "metadata": {},
   "outputs": [],
   "source": []
  },
  {
   "cell_type": "markdown",
   "metadata": {},
   "source": [
    "寫一個程式，讓 list 的內容由小排到大"
   ]
  },
  {
   "cell_type": "code",
   "execution_count": null,
   "metadata": {},
   "outputs": [],
   "source": []
  },
  {
   "cell_type": "markdown",
   "metadata": {},
   "source": [
    "寫一個程式，把二個 list 接起來。"
   ]
  },
  {
   "cell_type": "code",
   "execution_count": null,
   "metadata": {},
   "outputs": [],
   "source": []
  },
  {
   "cell_type": "markdown",
   "metadata": {},
   "source": [
    "### 函式練習"
   ]
  },
  {
   "cell_type": "markdown",
   "metadata": {},
   "source": [
    "請依序輸入分數、秒數、公里數，並且計算賽跑選手每小時的平均英里速度。(１英里＝1.6公里)"
   ]
  },
  {
   "cell_type": "code",
   "execution_count": null,
   "metadata": {},
   "outputs": [],
   "source": [
    "def speed(minutes, seconds, kms):\n",
    "    # ...\n",
    "    return ..."
   ]
  },
  {
   "cell_type": "markdown",
   "metadata": {},
   "source": [
    "請依序輸入時速、公里數，並且計算賽跑選手需要花費的時間。"
   ]
  },
  {
   "cell_type": "code",
   "execution_count": null,
   "metadata": {},
   "outputs": [],
   "source": []
  },
  {
   "cell_type": "markdown",
   "metadata": {},
   "source": [
    "請寫出換算時間的程式，要先讓使用者輸入\"請輸入秒數=▯\"，再將秒數轉換成▯秒=▯小時▯分▯秒。(範例：10000秒=2小時46分40秒)"
   ]
  },
  {
   "cell_type": "code",
   "execution_count": null,
   "metadata": {},
   "outputs": [],
   "source": []
  },
  {
   "cell_type": "markdown",
   "metadata": {},
   "source": [
    "設計一個函式，當mode=\"F2C\"，完成華氏溫度轉攝氏溫度，當mode=\"C2F\"，完成攝氏溫度轉華氏溫度，預設為mode=\"C2F\"。"
   ]
  },
  {
   "cell_type": "code",
   "execution_count": null,
   "metadata": {},
   "outputs": [],
   "source": []
  },
  {
   "cell_type": "markdown",
   "metadata": {},
   "source": []
  }
 ],
 "metadata": {
  "kernelspec": {
   "display_name": "Python 3",
   "language": "python",
   "name": "python3"
  },
  "language_info": {
   "codemirror_mode": {
    "name": "ipython",
    "version": 3
   },
   "file_extension": ".py",
   "mimetype": "text/x-python",
   "name": "python",
   "nbconvert_exporter": "python",
   "pygments_lexer": "ipython3",
   "version": "3.9.19"
  }
 },
 "nbformat": 4,
 "nbformat_minor": 2
}
