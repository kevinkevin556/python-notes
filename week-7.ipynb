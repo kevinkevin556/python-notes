{
 "cells": [
  {
   "cell_type": "markdown",
   "metadata": {},
   "source": [
    "### 程式爆炸怎麼辦？\n",
    "> 例外處理\n",
    "\n",
    "\n",
    "但如果你嘗試運行範例，你可能會發現一些錯誤訊息。常見的（至少）兩種不同的錯誤類別為：語法錯誤 (syntax error) 和例外 (exception)。"
   ]
  },
  {
   "cell_type": "markdown",
   "metadata": {},
   "source": [
    "#### 語法錯誤 (syntax error)\n",
    "語法錯誤又稱剖析錯誤 (parsing error)，它或許是學習 Python 的過程最常聽見的抱怨："
   ]
  },
  {
   "cell_type": "code",
   "execution_count": null,
   "metadata": {},
   "outputs": [],
   "source": [
    "while True print('Hello world')"
   ]
  },
  {
   "cell_type": "markdown",
   "metadata": {},
   "source": [
    "打錯字了，改過來就好，基本上沒什麼好擔心的。比較麻煩的是，程式設計師或者使用者輸入了不合理的資訊或操作，所以我們就需要例外處理了。"
   ]
  },
  {
   "cell_type": "markdown",
   "metadata": {},
   "source": [
    "#### 例外 (Exception)\n",
    "即使一段陳述式或運算式使用了正確的語法，嘗試執行時仍可能導致錯誤。執行時檢測到的錯誤稱為例外，例外不一定都很嚴重：你很快就能學會在 Python 程式中如何處理它們。不過大多數的例外不會被程式處理，並且會顯示如下的錯誤訊息：\n",
    "\n",
    "先問問看自己，下面的 code 會發生什麼問題，並嘗試執行下面的例子："
   ]
  },
  {
   "cell_type": "code",
   "execution_count": null,
   "metadata": {},
   "outputs": [],
   "source": [
    "# 10 * (1/0)"
   ]
  },
  {
   "cell_type": "code",
   "execution_count": null,
   "metadata": {},
   "outputs": [],
   "source": [
    "# 4 + spam*3"
   ]
  },
  {
   "cell_type": "code",
   "execution_count": null,
   "metadata": {},
   "outputs": [],
   "source": [
    "# '2' + 2"
   ]
  },
  {
   "cell_type": "markdown",
   "metadata": {},
   "source": [
    "錯誤訊息的最後一行指示發生了什麼事。例外有不同的類型，而類型名稱會作為訊息的一部份被印出。範例中的例外類型為：ZeroDivisionError、NameError 和 TypeError。作為例外類型被印出的字串，就是發生的內建例外 (built-in exception) 的名稱。所有的內建例外都是如此運作，但對於使用者自定的例外則不一定需要遵守（雖然這是一個有用的慣例）。標準例外名稱是內建的識別字 (identifier)，不是保留關鍵字 (reserved keyword)。\n",
    "\n",
    "此行其餘部分，根據例外的類型及導致例外的原因，說明例外的細節。\n",
    "\n",
    "**練習：嘗試做出同樣的例外吧！**"
   ]
  },
  {
   "cell_type": "markdown",
   "metadata": {},
   "source": [
    "#### 例外處理 (Exception Handling)\n",
    "我們可以設計一些解決方案，讓程式遇到例外的時候還有辦法處理他們。\n",
    "\n",
    "我們把要保護的程式片段放在 try 裡面。\n",
    "\n",
    "把遇到的例外類型放在 except 後面，對應的處理方法放在裡面。"
   ]
  },
  {
   "cell_type": "code",
   "execution_count": null,
   "metadata": {},
   "outputs": [],
   "source": [
    "try:\n",
    "    x = int(input(\"Please enter a number: \"))\n",
    "    print(\"x =\", x, \"is a valid number!\")\n",
    "except ValueError:\n",
    "    print(\"Oops!  That was no valid number.  Try again...\")"
   ]
  },
  {
   "cell_type": "markdown",
   "metadata": {},
   "source": [
    "這個例子在發生數值錯誤的時候，我們發出訊息提醒使用者，你輸入錯誤了！\n",
    "\n",
    "##### 案例1. 解一元二次方程式\n",
    "當我們用公式解的時候，會發生什麼問題呢？"
   ]
  },
  {
   "cell_type": "code",
   "execution_count": null,
   "metadata": {},
   "outputs": [],
   "source": [
    "from math import sqrt\n",
    "\n",
    "try:\n",
    "    inputs = input(\"Enter a, b, c\").split()\n",
    "    a = float(inputs[0])\n",
    "    b = float(inputs[1])\n",
    "    c = float(inputs[2])\n",
    "    solution1 = (-b + sqrt(b**2 - 4*a*c)) / (2*a)\n",
    "    solution2 = (-b - sqrt(b**2 - 4*a*c)) / (2*a)\n",
    "except:\n",
    "    print(\"噢不，爆炸了！！！\")\n"
   ]
  },
  {
   "cell_type": "markdown",
   "metadata": {},
   "source": [
    "我們也可以在邏輯錯誤的時候主動拋出例外，來強迫程式設計師面對問題XD。\n",
    "\n",
    "用 `raise 例外類型` 就可以拋出例外。"
   ]
  },
  {
   "cell_type": "code",
   "execution_count": null,
   "metadata": {},
   "outputs": [],
   "source": [
    "number = float(input(\"輸入一個大於 0 的數字 :\"))\n",
    "if number <= 0:\n",
    "    raise ValueError(\"輸入一個大於 0 的數字，聽不懂人話嗎\")"
   ]
  },
  {
   "cell_type": "markdown",
   "metadata": {},
   "source": [
    "##### 案例2. BMI 計算機"
   ]
  },
  {
   "cell_type": "code",
   "execution_count": 8,
   "metadata": {},
   "outputs": [
    {
     "name": "stdout",
     "output_type": "stream",
     "text": [
      "你的 BMI 是  22.857142857142858\n"
     ]
    }
   ],
   "source": [
    "height = float(input(\"身高 (m) =\"))\n",
    "weight = float(input(\"體重 (kg) =\"))\n",
    "\n",
    "if weight < 0:\n",
    "    pass\n",
    "if height < 0 or height > 3:\n",
    "    pass\n",
    "\n",
    "print(\"你的 BMI 是 \", weight / (height ** 2))"
   ]
  },
  {
   "cell_type": "markdown",
   "metadata": {},
   "source": [
    "### EOFError (文件結尾)\n",
    "在 C/C++ 裡面有針對文件結尾的判斷。Python 當然也有，不過需要引入內建的套件來解決。這邊我們講一下用 `try ... Except ...` 解決多筆測資(輸入到EOF為止)的做法。\n",
    "\n",
    "```python\n",
    "while True:\n",
    "    try: \n",
    "        #這裡放你的程式碼\n",
    "        #記得要縮排\n",
    "        \n",
    "        #程式碼結束\n",
    "    except EOFError:\n",
    "        break\n",
    "```\n",
    "\n",
    "這會幫你逐行讀進輸入，Python遇到結尾會拋出 EOFError，所以我們就不要讓它顯示訊息，跳出 while 迴圈正常結束就好。"
   ]
  },
  {
   "cell_type": "markdown",
   "metadata": {},
   "source": [
    "##### 案例3. a004 文文的求婚"
   ]
  },
  {
   "cell_type": "code",
   "execution_count": null,
   "metadata": {},
   "outputs": [],
   "source": []
  },
  {
   "cell_type": "markdown",
   "metadata": {},
   "source": [
    "參考：https://hackmd.io/@s10109670/Sko5kJSY_"
   ]
  },
  {
   "cell_type": "markdown",
   "metadata": {},
   "source": [
    "### Tuple: 另一種序列結構\n",
    "Python 有兩種序列結構，分別是元組 ( tuple ) 和串列 ( list )，兩種序列都可以將任何一種物件作為它們的元素。\n",
    "\n",
    "tuple 和串列非常的類似，都是一個儲存資料的「容器」，可以將物件存入，變成有順序的序列結構，不過 tuple 和串列有以下幾點不同：\n",
    "\n",
    "* tuple「只要建立了，就不能修改內容」。\n",
    "* tuple 使用「小括號」，串列 list 使用「方括號」。\n",
    "* 如果 tuple 裡只有一個元素，後方必須加上「逗號」( 多個元素就不用 )。\n",
    "\n",
    "雖然 tuple 在使用上有不少限制，但 tuple 也是有一些好處：\n",
    "* 讀取速度比串列快。\n",
    "* 佔用的空間比較少。\n",
    "* 資料更安全 ( 因為無法修改 )。"
   ]
  },
  {
   "cell_type": "code",
   "execution_count": null,
   "metadata": {},
   "outputs": [],
   "source": [
    "a = ('apple','banana','orange','grap')\n",
    "b = ('apple',)\n",
    "type(a)  # tuple\n",
    "type(b)  # tuple"
   ]
  },
  {
   "cell_type": "code",
   "execution_count": null,
   "metadata": {},
   "outputs": [],
   "source": [
    "a = ['apple','banana','orange','grap']\n",
    "b = tuple(a)\n",
    "type(b)  # tuple"
   ]
  },
  {
   "cell_type": "code",
   "execution_count": null,
   "metadata": {},
   "outputs": [],
   "source": [
    "t = ('apple','banana','orange','grap')\n",
    "a, b, c, d = t\n",
    "print(a)   # apple\n",
    "print(b)   # banana\n",
    "print(c)   # orange\n",
    "print(d)   # grap"
   ]
  },
  {
   "cell_type": "code",
   "execution_count": null,
   "metadata": {},
   "outputs": [],
   "source": [
    "t1 = ('apple','banana','orange')\n",
    "t2 = ('grap','pineapple')\n",
    "t = t1 + t2\n",
    "print(t)   # ('apple', 'banana', 'orange', 'grap', 'pineapple')"
   ]
  },
  {
   "cell_type": "code",
   "execution_count": null,
   "metadata": {},
   "outputs": [],
   "source": [
    "a = ('apple','banana','orange')\n",
    "b = a*3\n",
    "print(b)   # ('apple', 'banana', 'orange', 'apple', 'banana', 'orange', 'apple', 'banana', 'orange')"
   ]
  },
  {
   "cell_type": "markdown",
   "metadata": {},
   "source": [
    "練習：完成 W3S 的練習 https://www.w3schools.com/Python/python_tuples_exercises.asp"
   ]
  },
  {
   "cell_type": "markdown",
   "metadata": {},
   "source": []
  }
 ],
 "metadata": {
  "kernelspec": {
   "display_name": "Python 3",
   "language": "python",
   "name": "python3"
  },
  "language_info": {
   "codemirror_mode": {
    "name": "ipython",
    "version": 3
   },
   "file_extension": ".py",
   "mimetype": "text/x-python",
   "name": "python",
   "nbconvert_exporter": "python",
   "pygments_lexer": "ipython3",
   "version": "3.9.19"
  }
 },
 "nbformat": 4,
 "nbformat_minor": 2
}
