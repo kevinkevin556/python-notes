{
 "cells": [
  {
   "cell_type": "markdown",
   "metadata": {},
   "source": [
    "# Dictionary\n"
   ]
  },
  {
   "cell_type": "markdown",
   "metadata": {},
   "source": [
    "> 我們先來複習 list\n",
    "### 串列 list\n",
    "\n",
    "list 可以用來儲存一連串有順序性的元素。例如我們想要產生一個名叫 thriller 的 list :\n",
    "```Python\n",
    "thriller = ['Thriller', 'Billie Jean', 'Beat It']\n",
    "```\n",
    "我們會把想要儲存的元素放在 [] 兩個括號中，不同元素之間使用逗號來隔開。上面這行 code 代表我們創建了一個名叫 thriller 的 list，而在這個 list裏面包含了'Thriller’ 、 'Billie Jean' 、 'Beat it' 這幾個字串。\n",
    "\n",
    "如果想要知道這個 list 裡面有幾個元素，可以使用 `len()` 這個函式。"
   ]
  },
  {
   "cell_type": "code",
   "execution_count": 1,
   "metadata": {},
   "outputs": [
    {
     "data": {
      "text/plain": [
       "3"
      ]
     },
     "execution_count": 1,
     "metadata": {},
     "output_type": "execute_result"
    }
   ],
   "source": [
    "len(['Thriller', 'Billie Jean', 'Beat It']) # 3"
   ]
  },
  {
   "cell_type": "markdown",
   "metadata": {},
   "source": [
    "##### 取得 list 的元素\n",
    "想要取得元素的話，可以在 list 的名稱後面使用方括號 [] 加上想取得元素的位置 ( index )，就可以取得想要的元素。\n",
    "```python\n",
    "my_list[index]\n",
    "```\n",
    "\n",
    "##### 取得 list 裡面的最後一個元素\n",
    "如果想要取得 list 中的最後一個元素，除了前面輸入字串的 index 以外，也可以輸入 -1 。`list[-1]` 和 `list[len(list)-1]` 所代表的值是相同的。\n",
    "\n",
    "##### 取到 list 裡面所沒有的元素 : list index out of range\n",
    "在 thriller 這個 list 當中只有三個元素，代表可以取得的 index 只有 0 、1、2。如果試著取 index 為 3 的值會發生什麼事呢？\n",
    "\n",
    "##### 以範圍取值\n",
    "想要取得一連串範圍的值，使用的方式如下:\n",
    "```python\n",
    "my_list[start(開始的index):end(結束的index):sep(間隔)]\n",
    "```\n",
    "以範圍取值的更多表示方法\n",
    "* 如果輸入 my_list[:end] 、也就是省略輸入索引值起點，初始會從 0 開始。所以輸入 my_list[:2] 和 my_list[0:2] 的結果會是一樣的。\n",
    "* 至於 my_list[start:] 省略終點的話，Python 會假設你想要取到最後一個值，所以輸入 my_list[2:len(my_list)] 和 my_list[2:] 的結果是一樣的。"
   ]
  },
  {
   "cell_type": "code",
   "execution_count": 6,
   "metadata": {},
   "outputs": [
    {
     "name": "stdout",
     "output_type": "stream",
     "text": [
      "[1] => Billie Jean\n",
      "[-1] => Beat It\n",
      "[0:] => ['Thriller', 'Billie Jean', 'Beat It']\n",
      "[0:-1] => ['Thriller', 'Billie Jean']\n",
      "[:-1] => ['Thriller', 'Billie Jean']\n",
      "[:] => ['Thriller', 'Billie Jean', 'Beat It']\n"
     ]
    }
   ],
   "source": [
    "thriller = ['Thriller', 'Billie Jean', 'Beat It']\n",
    "print(\"[1] =>\", thriller[1])\n",
    "print(\"[-1] =>\", thriller[-1])\n",
    "print(\"[0:] =>\", thriller[0:])\n",
    "print(\"[0:-1] =>\", thriller[0:-1])\n",
    "print(\"[:-1] =>\", thriller[:-1])\n",
    "print(\"[:] =>\", thriller[:])"
   ]
  },
  {
   "cell_type": "markdown",
   "metadata": {},
   "source": [
    "##### 增加 list 裡面的元素\n",
    "想要增加 list 裡面的元素，可以使用 append 這個方法( method )來將新的元素增加到 list 的最後。\n",
    "```python\n",
    "my_list.append(object)\n",
    "```\n",
    "\n",
    "如果想要指定所增加物件的位置呢 ? 可以使用 list 的另一個方法 (method) insert 來指定位置。\n",
    "```python\n",
    "my_list.insert(position, object)\n",
    "```\n",
    "用法是my_list.insert(位置, 物件) ，在括號後面第一個值代表的是想要插入的位置，後面則是想要加入的東西本身。\n",
    "\n",
    "##### 移除 list 中的元素\n",
    "\n",
    "想要移除一個 list 中的元素，可以使用 remove method。\n",
    "```python\n",
    "my_list.remove(object)\n",
    "```\n",
    "如果只是想要移除這個 list 的最後一個元素的話，可以用 pop method。\n",
    "```python\n",
    "list.pop()\n",
    "```\n",
    "在括號後面不放任何東西的話， 預設 list 中的最後一個 element 會被移除，且會回傳所移除的那個值。"
   ]
  },
  {
   "cell_type": "code",
   "execution_count": 8,
   "metadata": {},
   "outputs": [
    {
     "name": "stdout",
     "output_type": "stream",
     "text": [
      "['Thriller', 'Billie Jean', 'Beat It', 'That Girl is Mine']\n",
      "['Thriller', 'Billie Jean']\n",
      "Beat It\n"
     ]
    }
   ],
   "source": [
    "thriller = ['Thriller', 'Billie Jean', 'Beat It']\n",
    "thriller.append('That Girl is Mine')\n",
    "print(thriller)\n",
    "\n",
    "thriller = ['Thriller', 'Billie Jean', 'Beat It']\n",
    "final_item  = thriller.pop()\n",
    "print(thriller)\n",
    "print(final_item)"
   ]
  },
  {
   "cell_type": "markdown",
   "metadata": {},
   "source": [
    "## Dictionary\n",
    "不用位置查找怎麼辦？用 dictionary。\n",
    "\n",
    "在 Python 的字典中，每一個元素都由鍵 (key) 和值 (value) 構成，結構為key: value 。不同的元素之間會以逗號分隔，並且以大括號 {}圍住。字典提供了非常快的查詢速度，使用的方法如下：\n",
    "```python\n",
    "d = {key1: value1, key2: value2}\n",
    "```\n",
    "我們可以建立一個變數 movie， movie 這個變數所代表的就是一個 dictionary，裡面包含了這部電影的名稱、上映年份、導演、編劇、主演的明星、以及所獲得的奧斯卡獎項。"
   ]
  },
  {
   "cell_type": "code",
   "execution_count": 11,
   "metadata": {},
   "outputs": [
    {
     "name": "stdout",
     "output_type": "stream",
     "text": [
      "{'name': 'Saving Private Ryan', 'year': 1998, 'director': 'Steven Spielberg', 'Writer': 'Robert Rodat', 'Stars': ['Tom Hanks', 'Matt Damon', 'Tom Sizemore'], 'Oscar ': ['Best Director', 'Best Cinematography', 'Best Sound', 'Best Film Editing', 'Best Effects, Sound Effects Editing']}\n"
     ]
    }
   ],
   "source": [
    "movie = {'name':'Saving Private Ryan', #電影名稱\n",
    "         'year':1998, #電影上映年份\n",
    "         'director':'Steven Spielberg',#導演\n",
    "         'Writer': 'Robert Rodat', #編劇\n",
    "         'Stars':['Tom Hanks', 'Matt Damon', 'Tom Sizemore'],#明星\n",
    "         'Oscar ':['Best Director','Best Cinematography','Best Sound','Best Film Editing','Best Effects, Sound Effects Editing']\n",
    "         #獲得的奧斯卡獎項\n",
    "        }\n",
    "print(movie)"
   ]
  },
  {
   "cell_type": "markdown",
   "metadata": {},
   "source": [
    "如果今天我們想要知道這部電影的導演是誰，就使用 [] 來透過 key 取得這個 key 所對應的值 (value)。在中括號內輸入當初建立時創的 key，就可以取得對應的值。要印出導演的程式碼如下 :"
   ]
  },
  {
   "cell_type": "code",
   "execution_count": 12,
   "metadata": {},
   "outputs": [
    {
     "name": "stdout",
     "output_type": "stream",
     "text": [
      "Steven Spielberg\n"
     ]
    }
   ],
   "source": [
    "print(movie['director'])"
   ]
  },
  {
   "cell_type": "markdown",
   "metadata": {},
   "source": [
    "可以看到， 輸入 movie['director'] 所代表的即為 'director' 這個 key 所對應的 value — Steven Spielberg ，表示這部電影的導演為史蒂芬史匹柏。"
   ]
  },
  {
   "cell_type": "markdown",
   "metadata": {},
   "source": [
    "##### 新增或更新資料\n",
    "也可以使用存取值的做法來新增或是更動一筆元素的 key-value 。用法如下:\n",
    "```python\n",
    "dictName[key] = value\n",
    "```\n",
    "\n",
    "如果一次要更新很多筆資料，建議可以使用 update method。\n",
    "\n",
    "使用方法如下:\n",
    "```python\n",
    "original_dict.update(new_dict)\n",
    "```\n",
    "以剛剛的 movie_1 例子而言，如果要一次增加編劇、明星、與所獲得的獎項等等，可以先創建一個新的 dictionary，裡面包含要增加的元素的，再使用 update method 完成更新。"
   ]
  },
  {
   "cell_type": "code",
   "execution_count": 15,
   "metadata": {},
   "outputs": [
    {
     "name": "stdout",
     "output_type": "stream",
     "text": [
      "{'name': 'Saving Private Ryan', 'year': 1998, 'director': 'Steven Spielberg'}\n",
      "{'name': 'Saving Private Ryan', 'year': 1998, 'director': 'Steven Spielberg', 'star': 'Tom Hank'}\n",
      "{'name': 'Saving Private Ryan', 'year': 1998, 'director': 'Steven Spielberg', 'star': 'Tom Hank', 'writer': 'Robert Rodat', 'stars': ['Tom Hanks', 'Matt Damon', 'Tom Sizemore'], 'Oscar': ['Best Director', 'Best Cinematography', 'Best Sound', 'Best Film Editing', 'Best Effects, Sound Effects Editing']}\n"
     ]
    }
   ],
   "source": [
    "movie_1 = {'name': 'Saving Private Ryan',\n",
    "           'year': 1998,\n",
    "           'director': 'Steven Spielberg'}\n",
    "\n",
    "print(movie_1)\n",
    "\n",
    "movie_1['star'] = \"Tom Hank\" #新增key-value\n",
    "print(movie_1)\n",
    "\n",
    "temp_dict = {'writer': 'Robert Rodat', #編劇\n",
    "         'stars':['Tom Hanks', 'Matt Damon', 'Tom Sizemore'],#明星\n",
    "         'Oscar':['Best Director','Best Cinematography','Best Sound','Best Film Editing','Best Effects, Sound Effects Editing']\n",
    "         }\n",
    "movie_1.update(temp_dict)\n",
    "print(movie_1)"
   ]
  },
  {
   "cell_type": "markdown",
   "metadata": {},
   "source": [
    "##### 刪除資料\n",
    "如果要刪除一筆元素。我們可以利用del敘述來刪除一筆元素的key - value，方法如下：\n",
    "```python\n",
    "del dict_name['key']\n",
    "```"
   ]
  },
  {
   "cell_type": "code",
   "execution_count": 16,
   "metadata": {},
   "outputs": [
    {
     "name": "stdout",
     "output_type": "stream",
     "text": [
      "{'name': 'Saving Private Ryan', 'year': 1998, 'director': 'Steven Spielberg', 'star': 'Tom Hank', 'writer': 'Robert Rodat', 'stars': ['Tom Hanks', 'Matt Damon', 'Tom Sizemore']}\n"
     ]
    }
   ],
   "source": [
    "del movie_1['Oscar']\n",
    "print(movie_1)"
   ]
  },
  {
   "cell_type": "markdown",
   "metadata": {},
   "source": [
    "##### 其他用法\n",
    "關於字典，還有許多其它很好用的方法。\n",
    "\n",
    "1. 計算字典中的元素個數: `len(dict_name)`\n",
    "2. 印出字典裡的所有 key: `dict_name.keys()`\n",
    "3. 印出字典裡的所有 value: `dict_name.values()`\n",
    "4. 迴圈：\n",
    "```python\n",
    "for key in dict:\n",
    "    print(key)\n",
    "    \n",
    "for key, value in dict.items():\n",
    "    print(key, value)\n",
    "```"
   ]
  },
  {
   "cell_type": "code",
   "execution_count": 24,
   "metadata": {},
   "outputs": [
    {
     "name": "stdout",
     "output_type": "stream",
     "text": [
      "{0: 0, 1: 1, 2: 4, 3: 9, 4: 16, 5: 25}\n",
      "6\n",
      "dict_keys([0, 1, 2, 3, 4, 5])\n",
      "dict_values([0, 1, 4, 9, 16, 25])\n",
      "-----\n",
      "Key is 0 Value is 0\n",
      "Key is 1 Value is 1\n",
      "Key is 2 Value is 4\n",
      "Key is 3 Value is 9\n",
      "Key is 4 Value is 16\n",
      "Key is 5 Value is 25\n"
     ]
    }
   ],
   "source": [
    "my_squares  = {}\n",
    "for i in range(6):\n",
    "    my_squares [i] = i**2\n",
    "\n",
    "print(my_squares)\n",
    "print(len(my_squares))\n",
    "print(my_squares.keys())\n",
    "print(my_squares.values())\n",
    "print(\"-----\")\n",
    "\n",
    "for i in my_squares:\n",
    "    print(\"Key is\", i, \"Value is\", my_squares[i])"
   ]
  },
  {
   "cell_type": "markdown",
   "metadata": {},
   "source": []
  }
 ],
 "metadata": {
  "kernelspec": {
   "display_name": "env-py39",
   "language": "python",
   "name": "python3"
  },
  "language_info": {
   "codemirror_mode": {
    "name": "ipython",
    "version": 3
   },
   "file_extension": ".py",
   "mimetype": "text/x-python",
   "name": "python",
   "nbconvert_exporter": "python",
   "pygments_lexer": "ipython3",
   "version": "3.9.19"
  }
 },
 "nbformat": 4,
 "nbformat_minor": 2
}
