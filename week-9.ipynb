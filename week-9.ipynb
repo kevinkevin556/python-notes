{
 "cells": [
  {
   "cell_type": "markdown",
   "metadata": {},
   "source": [
    "### 物件導向\n",
    "\n",
    "> Python是一種物件導向的程式語言。在Python中，幾乎所有的東西都是一個物件(object)。 <br>\n",
    "> 類別(class)就像構建物件的「藍圖」，或者說是一個構建物件的函式。 <br>\n",
    "> 另外，物件中的方法是指在物件裡的函式，物件中的屬性是指物件裡的變數。\n",
    "\n",
    "簡單來說，Python 裡面的每個東西(物件)，都有一個設計圖(類別)。<br>\n",
    "之前我們做的事情都使用了 Python 預先設定的設計圖，今天我們要來自己做！"
   ]
  },
  {
   "cell_type": "markdown",
   "metadata": {},
   "source": [
    "#### 地球任務\n",
    "假設你可以創造一個地球，你會怎麼設計生物？\n",
    "\n",
    "目前的生物分類法：____________________________________\n",
    "\n",
    "所謂的分類，就是一群有相同特徵的生物。"
   ]
  },
  {
   "cell_type": "code",
   "execution_count": 1,
   "metadata": {},
   "outputs": [
    {
     "name": "stdout",
     "output_type": "stream",
     "text": [
      "嗨，我是一隻生物，現在高度 = 0\n",
      "<class '__main__.Creature'>\n"
     ]
    }
   ],
   "source": [
    "class Creature:\n",
    "    def __init__(self, h=0):\n",
    "        self.cell = []\n",
    "        self.height = h\n",
    "\n",
    "    def sayhi(self):\n",
    "        print(f\"嗨，我是一隻生物，現在高度 = {self.height}\")\n",
    "\n",
    "creature_1 = Creature()\n",
    "creature_1.sayhi()\n",
    "print(type(creature_1))"
   ]
  },
  {
   "cell_type": "markdown",
   "metadata": {},
   "source": [
    "好了，我們現在設計了一隻生物，他會做的事情就是打招呼，他還有一個高度。<br>\n",
    "我們透過 `Creature()` 製造出一隻真實的生物，稱為實體 (instance)，實體化的過程由 `__init__()`所定義。\n",
    "\n",
    "這邊的高度 `self.height` 是生物這個類別的屬性 (property)，這是他的一個值。<br>\n",
    "他還有一個打招呼的動作，由一個函式 `sayhi()` 實作，這是生物這個類別的方法(method)。<br>\n",
    "我們用 `type` 看變數的資料型態，這邊我們發現，資料型態就是變數的類別 `Creature`。\n",
    "\n",
    "我們可以繼續設計植物和動物的類別。"
   ]
  },
  {
   "cell_type": "code",
   "execution_count": 2,
   "metadata": {},
   "outputs": [],
   "source": [
    "class Plant(Creature):\n",
    "    def __init__(self, h=10):\n",
    "        super().__init__(h=h)\n",
    "        self.cell = [\"細胞核\", \"細胞壁\", \"液胞\", \"葉綠體\"]\n",
    "\n",
    "    def sayhi(self):\n",
    "        print(f\"嗨，我是一棵植物，我有 {self.cell}，現在高度 = {self.height}\")\n",
    "    \n",
    "    def perform_photosynthesis(self):\n",
    "        self.height += 1"
   ]
  },
  {
   "cell_type": "code",
   "execution_count": 3,
   "metadata": {},
   "outputs": [
    {
     "name": "stdout",
     "output_type": "stream",
     "text": [
      "嗨，我是一棵植物，我有 ['細胞核', '細胞壁', '液胞', '葉綠體']，現在高度 = 20\n",
      "嗨，我是一棵植物，我有 ['細胞核', '細胞壁', '液胞', '葉綠體']，現在高度 = 21\n",
      "plant_1 的 type = <class '__main__.Plant'>\n"
     ]
    }
   ],
   "source": [
    "plant_1 = Plant(20)\n",
    "plant_1.sayhi()\n",
    "plant_1.perform_photosynthesis()\n",
    "plant_1.sayhi()\n",
    "print(\"plant_1 的 type =\", type(plant_1))"
   ]
  },
  {
   "cell_type": "markdown",
   "metadata": {},
   "source": [
    "`class Plant(Creature):` 代表植物「繼承」了生物的設計，因此他有_____的屬性，和_______的方法。\n",
    "\n",
    "但是我們新的 `sayhi()` 「覆寫」原本生物的 `sayhi`，所以可以有了不一樣的輸出。\n",
    "\n",
    "除此之外，我們還加上了新的屬性 `cell` 和方法 `perform_photosynthesis`，提供細胞的資訊和光合作用的方法。\n",
    "\n",
    "##### 練習:\n",
    "1. 做一隻 `plant_2`\n",
    "2. 把植物的 `sayhi()`拿掉，再重新跑一次上面的 code。"
   ]
  },
  {
   "cell_type": "markdown",
   "metadata": {},
   "source": [
    "接下來是動物，動物細胞跟植物細胞不一樣，也不會行光合作用，但是動物會移動、會進食。那樣我們怎麼設計動物的類別呢？"
   ]
  },
  {
   "cell_type": "code",
   "execution_count": 4,
   "metadata": {},
   "outputs": [],
   "source": [
    "class Animal(Creature):\n",
    "    def __init__(self, h=10, s=10):\n",
    "        super().__init__(h)\n",
    "        self.cell = [\"細胞核\"]\n",
    "        self.speed = s\n",
    "        self.position = 0\n",
    "\n",
    "    def sayhi(self):\n",
    "        print(f\"嗨，我是一隻動物，我有 {self.cell}，現在身高 = {self.height}，現在位置 = {self.position}\")\n",
    "    \n",
    "    def eat(self, food):\n",
    "        self.height += food * 0.3\n",
    "        self.speed += food * 0.1\n",
    "    \n",
    "    def move(self):\n",
    "        self.position = self.position + self.speed"
   ]
  },
  {
   "cell_type": "code",
   "execution_count": 5,
   "metadata": {},
   "outputs": [
    {
     "name": "stdout",
     "output_type": "stream",
     "text": [
      "嗨，我是一隻動物，我有 ['細胞核']，現在身高 = 10，現在位置 = 0\n",
      "嗨，我是一隻動物，我有 ['細胞核']，現在身高 = 13.0，現在位置 = 0\n",
      "嗨，我是一隻動物，我有 ['細胞核']，現在身高 = 13.0，現在位置 = 11.0\n"
     ]
    }
   ],
   "source": [
    "animal_1 = Animal()\n",
    "animal_1.sayhi()\n",
    "animal_1.eat(10)\n",
    "animal_1.sayhi()\n",
    "animal_1.move()\n",
    "animal_1.sayhi()"
   ]
  },
  {
   "cell_type": "markdown",
   "metadata": {},
   "source": [
    "當然我們也可以直接存取屬性的值。"
   ]
  },
  {
   "cell_type": "code",
   "execution_count": 6,
   "metadata": {},
   "outputs": [
    {
     "data": {
      "text/plain": [
       "13.0"
      ]
     },
     "execution_count": 6,
     "metadata": {},
     "output_type": "execute_result"
    }
   ],
   "source": [
    "animal_1.height"
   ]
  },
  {
   "cell_type": "code",
   "execution_count": 7,
   "metadata": {},
   "outputs": [
    {
     "data": {
      "text/plain": [
       "100"
      ]
     },
     "execution_count": 7,
     "metadata": {},
     "output_type": "execute_result"
    }
   ],
   "source": [
    "animal_1.height = 100\n",
    "animal_1.height"
   ]
  },
  {
   "cell_type": "markdown",
   "metadata": {},
   "source": [
    "這樣子做很方便，但壞處是 debug 很難處理。所以我們一般而言還是會透過類別的方法去操作屬性。\n",
    "\n",
    "##### 練習：\n",
    "做一個 `Dog` 類別，並加入 `bark` 方法。"
   ]
  },
  {
   "cell_type": "markdown",
   "metadata": {},
   "source": [
    "我們可以透過 isinstance 來看物件是不是屬於某個類別。"
   ]
  },
  {
   "cell_type": "code",
   "execution_count": 8,
   "metadata": {},
   "outputs": [
    {
     "name": "stdout",
     "output_type": "stream",
     "text": [
      "animal_1 是 動物嗎? True\n",
      "animal_1 是 植物嗎? False\n",
      "animal_1 是 生物嗎? True\n"
     ]
    }
   ],
   "source": [
    "print(\"animal_1 是 動物嗎?\", isinstance(animal_1, Animal))\n",
    "print(\"animal_1 是 植物嗎?\", isinstance(animal_1, Plant))\n",
    "print(\"animal_1 是 生物嗎?\", isinstance(animal_1, Creature))\n"
   ]
  },
  {
   "cell_type": "markdown",
   "metadata": {},
   "source": []
  }
 ],
 "metadata": {
  "kernelspec": {
   "display_name": "env-py39",
   "language": "python",
   "name": "python3"
  },
  "language_info": {
   "codemirror_mode": {
    "name": "ipython",
    "version": 3
   },
   "file_extension": ".py",
   "mimetype": "text/x-python",
   "name": "python",
   "nbconvert_exporter": "python",
   "pygments_lexer": "ipython3",
   "version": "3.9.19"
  }
 },
 "nbformat": 4,
 "nbformat_minor": 2
}
